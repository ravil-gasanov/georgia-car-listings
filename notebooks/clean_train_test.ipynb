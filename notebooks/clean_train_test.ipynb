{
 "cells": [
  {
   "cell_type": "code",
   "execution_count": null,
   "id": "208f05bf",
   "metadata": {},
   "outputs": [],
   "source": [
    "import pandas as pd\n",
    "import numpy as np\n",
    "import json\n",
    "\n",
    "from sklearn.model_selection import train_test_split"
   ]
  },
  {
   "cell_type": "markdown",
   "id": "31e52e67",
   "metadata": {},
   "source": [
    "# Load data"
   ]
  },
  {
   "cell_type": "code",
   "execution_count": null,
   "id": "9ce6ce2e",
   "metadata": {},
   "outputs": [],
   "source": [
    "raw = pd.read_csv(\"../data/myauto-raw.csv\")"
   ]
  },
  {
   "cell_type": "code",
   "execution_count": null,
   "id": "f0118876",
   "metadata": {},
   "outputs": [],
   "source": [
    "with open(\"../data/id_to_name.json\") as file:\n",
    "    id_to_name = json.load(file)"
   ]
  },
  {
   "cell_type": "markdown",
   "id": "bc75c566",
   "metadata": {},
   "source": [
    "# Select columns and drop duplicates"
   ]
  },
  {
   "cell_type": "code",
   "execution_count": null,
   "id": "9750c6fe",
   "metadata": {},
   "outputs": [],
   "source": [
    "maybe = ['photo_ver', 'stickers', 'prom_color', 'video_url', 'checked', 'words_checked', 'auction', 'auction_has_key', 'is_auction', 'car_desc', 'lang_type_id', 'parent_loc_id', 'car_run_dim', 'car_run', 'leather']\n",
    "columns_to_use = ['paid_add', 'prod_year', 'man_id', 'price', 'price_value', 'fuel_type_id', 'gear_type_id', 'drive_type_id', 'door_type_id', 'color_id', 'saloon_color_id', 'cylinders', 'car_run_km', 'engine_volume', 'airbags', 'abs', 'esd', 'el_windows', 'conditioner', 'disks', 'nav_system', 'central_lock', 'hatch', 'right_wheel', 'alarm', 'board_comp', 'hydraulics', 'chair_warming', 'climat_control', 'obstacle_indicator', 'customs_passed', 'model_id', 'location_id', 'tech_inspection', 'has_turbo', 'for_rent', 'rent_daily', 'rent_purchase', 'rent_insured', 'rent_driver', 'currency_id', 'category_id', 'vin', 'back_camera', 'order_date', 'hp', 'el_starter', 'start_stop', 'trunk', 'windshield', 'inspected_in_greenway', 'is_payd', 'condition_type_id', 'saloon_material_id', 'predicted_price', 'has_catalyst', 'views', 'has_predicted_price', 'comfort_features', 'pred_min_price', 'pred_max_price']"
   ]
  },
  {
   "cell_type": "code",
   "execution_count": null,
   "id": "e072c6c4",
   "metadata": {},
   "outputs": [],
   "source": [
    "raw = raw[sorted(columns_to_use)]\n",
    "raw.rename(columns = {\n",
    "    'price_value': 'price_in_gel',\n",
    "    'price': 'price_original',\n",
    "    'climat_control': 'climate_control'\n",
    "}, inplace = True)"
   ]
  },
  {
   "cell_type": "code",
   "execution_count": null,
   "id": "2cd28ea1",
   "metadata": {},
   "outputs": [],
   "source": [
    "raw.drop_duplicates(inplace = True)\n",
    "raw.reset_index(inplace = True, drop = True)"
   ]
  },
  {
   "cell_type": "code",
   "execution_count": null,
   "id": "37760e63",
   "metadata": {},
   "outputs": [],
   "source": [
    "pd.set_option('display.max_columns', 200)\n",
    "raw.tail()"
   ]
  },
  {
   "cell_type": "markdown",
   "id": "5d3f3aad",
   "metadata": {},
   "source": [
    "# Map feature IDs to names"
   ]
  },
  {
   "cell_type": "code",
   "execution_count": null,
   "id": "328f2c23",
   "metadata": {},
   "outputs": [],
   "source": [
    "id_to_name"
   ]
  },
  {
   "cell_type": "code",
   "execution_count": null,
   "id": "abcf1fdf",
   "metadata": {
    "scrolled": true
   },
   "outputs": [],
   "source": [
    "def parse(dict_of_lists, pref = \"\"):\n",
    "    if type(dict_of_lists) is dict:\n",
    "        return pd.concat([pd.DataFrame(elem).add_prefix(pref + key.lower() + \"::\") if type(elem) is list else parse(elem, pref + key.lower() + \"::\") for key, elem in dict_of_lists.items()], axis = 1)\n",
    "    else:\n",
    "        return pd.DataFrame()"
   ]
  },
  {
   "cell_type": "code",
   "execution_count": null,
   "id": "1265e49a",
   "metadata": {},
   "outputs": [],
   "source": [
    "df = parse(id_to_name)"
   ]
  },
  {
   "cell_type": "code",
   "execution_count": null,
   "id": "d71463ca",
   "metadata": {},
   "outputs": [],
   "source": [
    "def map_id_to_name(raw_id, raw_name, idd, name):\n",
    "    map_it = df[[idd, name]].dropna()\n",
    "    map_it[idd] = map_it[idd].astype(int)\n",
    "    map_it = map_it.set_index(idd)\n",
    "    \n",
    "    raw[raw_name] = raw[raw_id].astype(int).map(map_it.to_dict()[name])"
   ]
  },
  {
   "cell_type": "code",
   "execution_count": null,
   "id": "1c7d82e3",
   "metadata": {
    "scrolled": false
   },
   "outputs": [],
   "source": [
    "pd.set_option('display.max_rows', 200)\n",
    "df['comfortfeatures::items::title'].dropna()"
   ]
  },
  {
   "cell_type": "code",
   "execution_count": null,
   "id": "39a180e7",
   "metadata": {},
   "outputs": [],
   "source": [
    "feature_id = ['category_id', 'color_id', 'condition_type_id', 'currency_id', 'door_type_id', 'drive_type_id',\\\n",
    "             'fuel_type_id', 'gear_type_id', 'location_id', 'man_id', 'model_id', 'saloon_color_id', 'saloon_material_id']"
   ]
  },
  {
   "cell_type": "code",
   "execution_count": null,
   "id": "61b04e25",
   "metadata": {},
   "outputs": [],
   "source": [
    "map_id_to_name('category_id', 'body_type', 'categories::category_id', 'categories::title')\n",
    "raw['body_type'] = raw['body_type'].replace('Jeep', 'suv')"
   ]
  },
  {
   "cell_type": "code",
   "execution_count": null,
   "id": "f02480f7",
   "metadata": {},
   "outputs": [],
   "source": [
    "map_id_to_name('color_id', 'color', 'colors::color_id', 'colors::color_name')\n",
    "map_id_to_name('color_id', 'color_rgb', 'colors::color_id', 'colors::color_code')"
   ]
  },
  {
   "cell_type": "code",
   "execution_count": null,
   "id": "9a65dc70",
   "metadata": {},
   "outputs": [],
   "source": [
    "map_id_to_name('currency_id', 'currency', 'currencies::currencyID', 'currencies::title')"
   ]
  },
  {
   "cell_type": "code",
   "execution_count": null,
   "id": "6d85b054",
   "metadata": {},
   "outputs": [],
   "source": [
    "map_id_to_name('door_type_id', 'door_type', 'doortypes::door_type_id', 'doortypes::door_type_name')"
   ]
  },
  {
   "cell_type": "code",
   "execution_count": null,
   "id": "c87365d3",
   "metadata": {},
   "outputs": [],
   "source": [
    "map_id_to_name('drive_type_id', 'drive_type', 'drivetypes::drive_type_id', 'drivetypes::drive_type_name')"
   ]
  },
  {
   "cell_type": "code",
   "execution_count": null,
   "id": "701edc7b",
   "metadata": {},
   "outputs": [],
   "source": [
    "map_id_to_name('fuel_type_id', 'fuel_type', 'fueltypes::items::fuel_type_id', 'fueltypes::items::title')"
   ]
  },
  {
   "cell_type": "code",
   "execution_count": null,
   "id": "1354b449",
   "metadata": {},
   "outputs": [],
   "source": [
    "map_id_to_name('gear_type_id', 'gear_type', 'geartypes::items::gear_type_id', 'geartypes::items::title')"
   ]
  },
  {
   "cell_type": "code",
   "execution_count": null,
   "id": "b26f8d36",
   "metadata": {},
   "outputs": [],
   "source": [
    "map_id_to_name('location_id', 'location', 'locations::items::location_id', 'locations::items::title')"
   ]
  },
  {
   "cell_type": "code",
   "execution_count": null,
   "id": "fdb2ee35",
   "metadata": {},
   "outputs": [],
   "source": [
    "map_id_to_name('man_id', 'manufacturer', 'mans::man_id', 'mans::man_name')"
   ]
  },
  {
   "cell_type": "code",
   "execution_count": null,
   "id": "65e26c79",
   "metadata": {},
   "outputs": [],
   "source": [
    "map_id_to_name('model_id', 'model', 'models::model_id', 'models::model_name')\n",
    "map_id_to_name('model_id', 'model_group', 'models::model_id', 'models::model_group')"
   ]
  },
  {
   "cell_type": "code",
   "execution_count": null,
   "id": "19463239",
   "metadata": {},
   "outputs": [],
   "source": [
    "map_id_to_name('saloon_color_id', 'saloon_color', 'salooncolors::saloon_color_id', 'salooncolors::color_name')\n",
    "map_id_to_name('saloon_color_id', 'saloon_color_rgb', 'salooncolors::saloon_color_id', 'salooncolors::color_code')"
   ]
  },
  {
   "cell_type": "code",
   "execution_count": null,
   "id": "0bcfe585",
   "metadata": {},
   "outputs": [],
   "source": [
    "map_id_to_name('saloon_material_id', 'saloon_material', 'salooninteriormaterial::id', 'salooninteriormaterial::title')"
   ]
  },
  {
   "cell_type": "code",
   "execution_count": null,
   "id": "710f0b05",
   "metadata": {},
   "outputs": [],
   "source": [
    "raw.drop(feature_id, inplace = True, axis = 1)"
   ]
  },
  {
   "cell_type": "code",
   "execution_count": null,
   "id": "a32fd882",
   "metadata": {},
   "outputs": [],
   "source": [
    "raw.head()"
   ]
  },
  {
   "cell_type": "markdown",
   "id": "7771d915",
   "metadata": {},
   "source": [
    "## Translate comfort features using Google Translate and then map\n",
    "<b> In general, test data should not be used to generate variables like below </b>, as some of the tags in the test set may not appear in the train set - we are effectively leaking the test data. \n",
    "\n",
    "I will encode everything so I don't have to share the raw sources (and for your convenience), and filter out the tags that are always False in the trainset when train-test splitting the data. "
   ]
  },
  {
   "cell_type": "code",
   "execution_count": null,
   "id": "579e5752",
   "metadata": {},
   "outputs": [],
   "source": [
    "feature_id_list = ['comfort_features']"
   ]
  },
  {
   "cell_type": "code",
   "execution_count": null,
   "id": "576a0df4",
   "metadata": {},
   "outputs": [],
   "source": [
    "from googletrans import Translator\n",
    "import time\n",
    "#catcomfortfeatures::id, \n",
    "translator = Translator()\n",
    "ge_comfort_features = df[['comfortfeatures::items::id', 'comfortfeatures::items::title']].dropna()\n",
    "ge_comfort_features.columns = [\"id\", \"ge\"]\n",
    "ge_comfort_features"
   ]
  },
  {
   "cell_type": "code",
   "execution_count": null,
   "id": "e4415fd0",
   "metadata": {
    "scrolled": false
   },
   "outputs": [],
   "source": [
    "comfort_features = ge_comfort_features.copy()\n",
    "\n",
    "# google denies too large/frequent requests\n",
    "\n",
    "step = 10\n",
    "max_size = 31\n",
    "for i in range(0, max_size, step):\n",
    "    comfort_features[\"ge\"][i:min(i+step, max_size)] = ge_comfort_features[\"ge\"][i:min(i+step, max_size)].apply(translator.translate, src=\"ka\", dest=\"en\").apply(getattr, args=('text',))\n",
    "    time.sleep(1)"
   ]
  },
  {
   "cell_type": "code",
   "execution_count": null,
   "id": "2a3eae52",
   "metadata": {},
   "outputs": [],
   "source": [
    "comfort_features.rename(columns = {\"ge\": \"en\"}, inplace = True)\n",
    "comfort_features"
   ]
  },
  {
   "cell_type": "code",
   "execution_count": null,
   "id": "351cbf78",
   "metadata": {},
   "outputs": [],
   "source": [
    "comfort_features[\"id\"] = comfort_features[\"id\"].astype(int)\n",
    "comfort_features"
   ]
  },
  {
   "cell_type": "code",
   "execution_count": null,
   "id": "ab450d3f",
   "metadata": {},
   "outputs": [],
   "source": [
    "for i in range(0, max_size):\n",
    "    comf_id, comf_name = comfort_features.iloc[i, :]\n",
    "    raw[comf_name.lower()] = raw[\"comfort_features\"].apply(lambda x: False if type(x) is float else x.find(str(comf_id)) != -1)"
   ]
  },
  {
   "cell_type": "code",
   "execution_count": null,
   "id": "62f557cc",
   "metadata": {},
   "outputs": [],
   "source": [
    "cols_to_drop = raw.nunique()\n",
    "cols_to_drop = cols_to_drop.loc[cols_to_drop.values==1].index\n",
    "raw.drop(columns = cols_to_drop, inplace = True)\n",
    "raw.head()"
   ]
  },
  {
   "cell_type": "markdown",
   "id": "5a074b5f",
   "metadata": {},
   "source": [
    "# Train-Test split"
   ]
  },
  {
   "cell_type": "code",
   "execution_count": null,
   "id": "7a196c94",
   "metadata": {},
   "outputs": [],
   "source": [
    "raw['order_date'] = pd.to_datetime(raw['order_date'], format=\"%Y-%m-%d %H:%M:%S\")\n",
    "\n",
    "raw.sort_values(by = ['order_date'], ascending = True, inplace = True)\n",
    "train, test = train_test_split(raw, train_size = 0.6, shuffle = False)\n",
    "\n",
    "raw.to_csv(\"../data/myauto-clean.csv\")"
   ]
  },
  {
   "cell_type": "code",
   "execution_count": null,
   "id": "7d261979",
   "metadata": {},
   "outputs": [],
   "source": [
    "# no need to drop any tags in my split, all of them appear in the trainset\n",
    "cols_to_drop = train.nunique()\n",
    "cols_to_drop = cols_to_drop.loc[cols_to_drop.values==1].index\n",
    "cols_to_drop"
   ]
  },
  {
   "cell_type": "code",
   "execution_count": null,
   "id": "04ee35aa",
   "metadata": {},
   "outputs": [],
   "source": [
    "train.to_csv(\"../data/train.csv\", index = False)\n",
    "test.to_csv(\"../data/test.csv\", index = False)"
   ]
  }
 ],
 "metadata": {
  "kernelspec": {
   "display_name": "Python 3 (ipykernel)",
   "language": "python",
   "name": "python3"
  },
  "language_info": {
   "codemirror_mode": {
    "name": "ipython",
    "version": 3
   },
   "file_extension": ".py",
   "mimetype": "text/x-python",
   "name": "python",
   "nbconvert_exporter": "python",
   "pygments_lexer": "ipython3",
   "version": "3.10.4"
  }
 },
 "nbformat": 4,
 "nbformat_minor": 5
}
